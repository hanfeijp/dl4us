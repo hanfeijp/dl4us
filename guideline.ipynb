{
 "cells": [
  {
   "cell_type": "markdown",
   "metadata": {},
   "source": [
    "# Deep Learning - Practical Development受講案内"
   ]
  },
  {
   "cell_type": "markdown",
   "metadata": {},
   "source": [
    "### 講座概要\n",
    "本講座は主にエンジニアの方に向けた深層学習の入門教材となっています. 工学的に活用できるようになることを第一に考えた教材となっています. そのため, 各方法論において数学的な説明は最小限にとどめており, その代わりになぜそれをつかうのか, それを使うとどう嬉しいのか等を直感的な説明で理解させることをめざした教材になっています.\n",
    "\n",
    "Deep LearningのフレームワークにはKerasを用いています."
   ]
  },
  {
   "cell_type": "markdown",
   "metadata": {},
   "source": [
    "### 全体像\n",
    "本講座は全6Lessonの演習マテリアルからなっています. それぞれ\n",
    "- Lesson 0: 機械学習・Deep Learningのキソ\n",
    "    - 機械学習概観\n",
    "- Lesson 1: 手書き文字認識をしよう\n",
    "    - Keras入門, MNIST, MLP, 前処理, 勾配に関するテクニック, 過学習を防ぐための手法, Fashion MNIST\n",
    "- Lesson 2: 畳み込みニューラルネットワーク\n",
    "    - CNN基礎, Data Augmentation, 画像データの正規化, Batch Normalization, Skip Connection\n",
    "- Lesson 3: 系列データで予測させてみよう\n",
    "    - RNN, BPTT, Gradient Clipping, LSTM\n",
    "- Lesson 4: ニューラル翻訳モデルをつくってみよう\n",
    "    - 言語モデル, 分散表現, Seq2Seq, Keras Functional API, Attention\n",
    "- Lesson 5: 画像からキャプションを生成してみよう\n",
    "    - MSCOCO, 学習済みモデルの利用, Attention\n",
    "- Lesson 6: ニューラルネットに画像を生成させよう\n",
    "    - 生成モデル入門, GAN, Conditional GAN, VAE\n",
    "- Lesson 7: ニューラルネットでゲームを攻略するAIをつくろう\n",
    "    - 強化学習入門, Q学習, DQN, OpenAI Gym, Double DQN, Dueling Network"
   ]
  },
  {
   "cell_type": "markdown",
   "metadata": {},
   "source": [
    "### 演習の進め方\n",
    "各LessonにはそのLessonで学ぶトピックの説明及びPythonでの実装がJupyter Notebook形式でまとめられています.\n",
    "各Lessonは4つのSectionから構成されており,\n",
    "- Section 1: そのLessonで学ぶトピックの概要\n",
    "- Section 2: Section 1の実装\n",
    "- Section 3: 精度を向上させるための発展的テクニック\n",
    "- Section 4: Section 3の実装\n",
    "\n",
    "という構成になっています. Section 1, 3の最後にはそのSectionで学んだことの確認問題があるので解いてみてください. 正解はその次のSection 2, 4の頭に書いてあります. またLesson 0のみ実装部分はありません. 各Lessonはそれ以前のLessonの知識を前提としているので, Lesson 0から順にすすめてください.\n",
    "\n",
    "各Lessonにはmasterとblankの2つのフォルダがあり、それぞれにnotebookが入っています. masterのnotebookには全てのコードが完成された状態で記述されていますので, 上から順に実行していくことで一通りの処理の流れは理解できるようになっています. ただ, 単にできているコードを実行するだけだと学習効果が低いので, 自分たちでコードを記述できるようにコードが空白になっているnotebook (blank) もblankディレクトリの中に用意しています. masterを見ながらblankにコードを自分で書いて, 学習に役立ててください.\n",
    "\n",
    "Jupyter Notebookの使い方がわからない人はググるか次のリンクなどを参考にしてみてください.\n",
    "\n",
    "- Jupyter (IPython) notebooks features: http://arogozhnikov.github.io/2016/09/10/jupyter-features.html"
   ]
  },
  {
   "cell_type": "markdown",
   "metadata": {},
   "source": [
    "### 最終課題について\n",
    "全Lessonで学んだ内容を活かして, Deep Learningを用いたプロジェクトを1つ実装してもらう予定です. 詳細が決まり次第連絡します."
   ]
  },
  {
   "cell_type": "markdown",
   "metadata": {},
   "source": [
    "### 注意事項\n",
    "- 複数のプロセス(notebook)を同時に走らせるとBLASのエラーが出る可能性があります. 使わないnotebookはkernelをリセットする(上バーの$\\circlearrowright$ボタン)などしてプロセスを切ってください.\n",
    "- 演習を終えるときは必ず画面左上の「Stop」ボタンを押してインスタンスを閉じて下さい.閉じない場合,Creditを無駄に消費してしまいます.\n",
    "- iLectの起動には時間がかかりますが，10分以上待っても `Starting your Instance`と出たまま進まない場合があります. その場合は一度ブラウザのウィンドウを閉じてもう一度開いてみてください."
   ]
  }
 ],
 "metadata": {
  "kernelspec": {
   "display_name": "Python 3",
   "language": "python",
   "name": "python3"
  },
  "language_info": {
   "codemirror_mode": {
    "name": "ipython",
    "version": 3
   },
   "file_extension": ".py",
   "mimetype": "text/x-python",
   "name": "python",
   "nbconvert_exporter": "python",
   "pygments_lexer": "ipython3",
   "version": "3.6.4"
  }
 },
 "nbformat": 4,
 "nbformat_minor": 2
}
