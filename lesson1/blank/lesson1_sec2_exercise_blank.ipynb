{
 "cells": [
  {
   "cell_type": "markdown",
   "metadata": {},
   "source": [
    "# Lesson1 手書き文字認識をしよう（ニューラルネットワーク入門）"
   ]
  },
  {
   "cell_type": "markdown",
   "metadata": {},
   "source": [
    "## 目次\n",
    "\n",
    "- 1.6の解答\n",
    "- Section2 実装①\n",
    "  - 2.1 MNISTによるMLPの復習"
   ]
  },
  {
   "cell_type": "markdown",
   "metadata": {},
   "source": [
    "## 1.6の解答\n",
    "\n",
    "1. 学習データ以外の未知のデータに対するモデルの予測性能を何というか  \n",
    "  ①神通力　②バイアス　**③汎化性能**　④共起性\n",
    "2. データセット全体を一度に全て使用して学習する方法を何というか  \n",
    "  ①転移学習　②ワンショット学習　③過学習　**④バッチ学習**　\n",
    "3. 名義尺度のデータをバイナリベクトルによって表現したものを何というか  \n",
    "  ①分散表現　**②one-hot表現**　③ビット表現　④ユニタリ表現\n",
    "4. モデルの学習に当たって最小化するものは何か  \n",
    "  ①精度　**②損失関数**　③スコア　④F値"
   ]
  },
  {
   "cell_type": "markdown",
   "metadata": {},
   "source": [
    "## Section2 実装①"
   ]
  },
  {
   "cell_type": "markdown",
   "metadata": {},
   "source": [
    "### 2.1 MNISTによるMLPの復習"
   ]
  },
  {
   "cell_type": "code",
   "execution_count": null,
   "metadata": {},
   "outputs": [],
   "source": [
    "# データのロード\n"
   ]
  },
  {
   "cell_type": "code",
   "execution_count": null,
   "metadata": {},
   "outputs": [],
   "source": [
    "# データの整形\n"
   ]
  },
  {
   "cell_type": "code",
   "execution_count": null,
   "metadata": {},
   "outputs": [],
   "source": [
    "# モデル構築\n"
   ]
  },
  {
   "cell_type": "code",
   "execution_count": null,
   "metadata": {},
   "outputs": [],
   "source": [
    "# 学習\n"
   ]
  },
  {
   "cell_type": "code",
   "execution_count": null,
   "metadata": {},
   "outputs": [],
   "source": [
    "# 性能評価\n"
   ]
  }
 ],
 "metadata": {
  "kernelspec": {
   "display_name": "Python 3",
   "language": "python",
   "name": "python3"
  },
  "language_info": {
   "codemirror_mode": {
    "name": "ipython",
    "version": 3
   },
   "file_extension": ".py",
   "mimetype": "text/x-python",
   "name": "python",
   "nbconvert_exporter": "python",
   "pygments_lexer": "ipython3",
   "version": "3.6.3"
  }
 },
 "nbformat": 4,
 "nbformat_minor": 1
}
